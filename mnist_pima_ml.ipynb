{
 "cells": [
  {
   "cell_type": "markdown",
   "metadata": {},
   "source": [
    "<h2 style=\"text-align:center;\"> HELLENIC OPEN UNIVERSITY - SCHOOL OF SCIENCE AND TECHNOLOGY</h2>\n",
    "<h2 style=\"text-align:center;\"> DATA SCIENCE AND MACHINE LEARNING : DAMA61 ACAD. YEAR 2024-25</h2>"
   ]
  },
  {
   "cell_type": "markdown",
   "metadata": {},
   "source": [
    "<h3 style=\"text-align:center;\"> WRITTEN ASSIGNMENT 3</h3>"
   ]
  },
  {
   "cell_type": "markdown",
   "metadata": {},
   "source": [
    "<hr>"
   ]
  },
  {
   "cell_type": "markdown",
   "metadata": {},
   "source": [
    "### Problem 1:\n",
    "\n",
    "This problem concentrates on training models for the MNIST dataset using Decision Trees, Ensemble Models and Dimensionality reduction: <i>Please fix the random state to 42 where required.</i>\n",
    "\n",
    "1) Open a Jupyter-notebook load the the MNIST dataset and split it to 80% training and 20% test parts using stratisfied splitting with a fixed random state (42). Retain only the 10000 first entries of the resulting training set and the first 2000 from the test set. Convert labels from array of strings to array of 64-bit integers. <b>[5%]</b>\n",
    "2) Perform a Grid Search with 5-fold cross validation, with the maximum number of features taking the values [100, 150, 200], and the maximum depth the values [2, 4, 5], for a Decision Tree Classifier, using the Entropy criterion and fixed random state. Print the accuracy score, the F1 - score (set the average parameter set to \"macro\"), with respect to test data, and the values of the best parameters for the best estimator. Print the scores for all combinations and discuss the results. <b>[15%]</b>\n",
    "3) Create a pipeline performing PCA, with fixed random state, retaining 90% of the variance of the initial features included in the training dataset, and train a Decision Tree with the depth parameter discovered in the previous question. Compute the accuracy and the F1 - score with respect to the test data and compare them with the previous results. Please discuss the advantages or disadvantages of using PCA. <b>[20%]</b>\n",
    "4) Perform PCA with the number of components dictated in the previous question, compress the training data and train a Gradient Boosting Classifier (GBC). The model should have a maximum depth of 2, 6 estimators and learning rate equal to 1.0. The random state should be fixed where required. Discuss the results with respect to previously used Tree Classifier. How is it possible for GBC with shallow trees to outperform a deeper Tree Classifier? <b>[15%]</b>\n",
    "5) Reconstruct the first five images (digits) by using the output of the PCA, of the previous question, and plot them along with their corresponding originals in the same figure and discuss. <b>[15%]</b>\n",
    "6) Perform KMeans Clustering, with 20 clusters, using the PCA transformed training data and plot the most representative digits in a Figure with 2 rows and 10 columns. The most representative digit of each cluster is its corresponding centroid. <b>[15%]</b>\n",
    "7) An important part of unsupervised learning is labelling. Manually label the printed images (centroirs) of the 20 clusters in Question #6 and store them in a vector. Then, label each sample of the test data based on the label of its nearest cluster (label propagation). By treating these assignments as predictions, compute the accuracy and F1 - score, with respect to test set labels, and compare to the previous approaches with respect also to the execution times of the trainig process. <b>[15%]</b>"
   ]
  },
  {
   "cell_type": "markdown",
   "metadata": {},
   "source": [
    "### Helpful imports"
   ]
  },
  {
   "cell_type": "code",
   "execution_count": 1,
   "metadata": {},
   "outputs": [
    {
     "data": {
      "text/html": [
       "<style>.container { width:90% !important; }</style>"
      ],
      "text/plain": [
       "<IPython.core.display.HTML object>"
      ]
     },
     "metadata": {},
     "output_type": "display_data"
    }
   ],
   "source": [
    "# import the needed packages\n",
    "import numpy as np\n",
    "import pandas as pd\n",
    "from collections import Counter\n",
    "\n",
    "# increase the width of the notebook\n",
    "from IPython.display import display, HTML, Markdown\n",
    "display(HTML(\"<style>.container { width:90% !important; }</style>\"))\n",
    "\n",
    "# set the output of sklearn pipelines \n",
    "from sklearn import set_config\n",
    "set_config(display=\"diagram\")\n",
    "\n",
    "# set the plotting parameters\n",
    "%matplotlib inline\n",
    "import matplotlib.pyplot as plt\n",
    "plt.rcParams.update({'font.size': 12})"
   ]
  },
  {
   "cell_type": "markdown",
   "metadata": {},
   "source": [
    "### Question 1"
   ]
  },
  {
   "cell_type": "code",
   "execution_count": 2,
   "metadata": {},
   "outputs": [],
   "source": [
    "# load the MNIST dataset and check the keys of the mnist object\n",
    "from sklearn.datasets import fetch_openml\n",
    "mnist = fetch_openml('mnist_784', version=1, as_frame=False, parser='auto')"
   ]
  },
  {
   "cell_type": "code",
   "execution_count": 3,
   "metadata": {},
   "outputs": [],
   "source": [
    "# split the data into features and target values\n",
    "X, y = mnist[\"data\"], mnist[\"target\"]\n",
    "y = y.astype(np.int64)"
   ]
  },
  {
   "cell_type": "code",
   "execution_count": 4,
   "metadata": {},
   "outputs": [],
   "source": [
    "# Verify that both X and y are numpy arrays\n",
    "assert (type(X) == np.ndarray) & (type(y) == np.ndarray)"
   ]
  },
  {
   "cell_type": "code",
   "execution_count": 5,
   "metadata": {},
   "outputs": [],
   "source": [
    "from sklearn.model_selection import train_test_split\n",
    "\n",
    "# apply stratified train/test split\n",
    "X_train, X_test, y_train, y_test = train_test_split(X, y, \n",
    "                                                    test_size = 0.20, \n",
    "                                                    stratify = y,\n",
    "                                                    random_state = 42)\n",
    "\n",
    "X_train = X_train[:10000]\n",
    "y_train = y_train[:10000]\n",
    "\n",
    "X_test = X_test[:2000]\n",
    "y_test = y_test[:2000]"
   ]
  },
  {
   "cell_type": "markdown",
   "metadata": {},
   "source": [
    "### Question 2"
   ]
  },
  {
   "cell_type": "code",
   "execution_count": 6,
   "metadata": {},
   "outputs": [
    {
     "name": "stdout",
     "output_type": "stream",
     "text": [
      "Decision Tree Classifier:\n",
      "Best Max Depth: 5\n",
      "Best Max Features: 150\n",
      "Accuracy score: 0.68\n",
      "F1: 0.66\n",
      "\n",
      "Configuration: {'max_depth': 2, 'max_features': 100}  Mean Test Score: 0.32\n",
      "Configuration: {'max_depth': 2, 'max_features': 150}  Mean Test Score: 0.32\n",
      "Configuration: {'max_depth': 2, 'max_features': 200}  Mean Test Score: 0.32\n",
      "Configuration: {'max_depth': 4, 'max_features': 100}  Mean Test Score: 0.56\n",
      "Configuration: {'max_depth': 4, 'max_features': 150}  Mean Test Score: 0.58\n",
      "Configuration: {'max_depth': 4, 'max_features': 200}  Mean Test Score: 0.58\n",
      "Configuration: {'max_depth': 5, 'max_features': 100}  Mean Test Score: 0.65\n",
      "Configuration: {'max_depth': 5, 'max_features': 150}  Mean Test Score: 0.66\n",
      "Configuration: {'max_depth': 5, 'max_features': 200}  Mean Test Score: 0.65\n"
     ]
    }
   ],
   "source": [
    "# import necessary method\n",
    "from sklearn.tree import DecisionTreeClassifier\n",
    "from sklearn.metrics import accuracy_score, f1_score\n",
    "from sklearn.model_selection import GridSearchCV\n",
    "\n",
    "# Train the model\n",
    "tree_clf = DecisionTreeClassifier(criterion='entropy', random_state=42)\n",
    "\n",
    "# Parameters for Grid Search\n",
    "params = {'max_depth': [2, 4, 5], 'max_features' : [100, 150, 200]}\n",
    "\n",
    "# Perform Grid Search and train the model\n",
    "tree_clf2 = GridSearchCV(estimator = tree_clf, param_grid = params)\n",
    "tree_clf2.fit(X_train, y_train)\n",
    "\n",
    "# Predict \n",
    "y_pred = tree_clf2.best_estimator_.predict(X_test)\n",
    "\n",
    "best_params = tree_clf2.best_estimator_.get_params()\n",
    "\n",
    "print(\"Decision Tree Classifier:\")\n",
    "print(f\"Best Max Depth: {best_params['max_depth']}\")\n",
    "print(f\"Best Max Features: {best_params['max_features']}\")\n",
    "print(f\"Accuracy score: {accuracy_score(y_test,y_pred):.2f}\")\n",
    "print(f\"F1: {f1_score(y_test,y_pred, average= 'macro'):.2f}\")\n",
    "print()\n",
    "\n",
    "for i_conf, conf in enumerate(tree_clf2.cv_results_['params']):\n",
    "    print(f\"Configuration: {conf}  Mean Test Score: {tree_clf2.cv_results_['mean_test_score'][i_conf]:.2f}\")"
   ]
  },
  {
   "cell_type": "markdown",
   "metadata": {},
   "source": [
    "We can observe that increasing the depth has a significant impact on accuracy while an increase in features does not lead to significant increase in accuracy. This is an indication that there are reduntant features in the dataset."
   ]
  },
  {
   "cell_type": "markdown",
   "metadata": {},
   "source": [
    "### Question 3"
   ]
  },
  {
   "cell_type": "code",
   "execution_count": 7,
   "metadata": {},
   "outputs": [
    {
     "name": "stdout",
     "output_type": "stream",
     "text": [
      "PCA + Decision Tree Classifier:\n",
      "PCA dimensions: 86\n",
      "Accuracy score: 0.67\n",
      "F1: 0.65\n"
     ]
    }
   ],
   "source": [
    "from sklearn.pipeline import make_pipeline\n",
    "from sklearn.decomposition import PCA\n",
    "\n",
    "# Create pipeline\n",
    "clf = make_pipeline(PCA(random_state = 42, n_components = 0.9),\n",
    "                    DecisionTreeClassifier(criterion= 'entropy',\n",
    "                                           max_depth = best_params['max_depth']))\n",
    "\n",
    "# Fit model\n",
    "clf.fit(X_train, y_train)\n",
    "\n",
    "# Predict\n",
    "y_pred = clf.predict(X_test)\n",
    "\n",
    "print(\"PCA + Decision Tree Classifier:\")\n",
    "print(f\"PCA dimensions: {clf[0].n_components_}\")\n",
    "print(f\"Accuracy score: {accuracy_score(y_test, y_pred):.2f}\")\n",
    "print(f\"F1: {f1_score(y_test, y_pred, average= 'macro'):.2f}\")"
   ]
  },
  {
   "cell_type": "markdown",
   "metadata": {},
   "source": [
    "The result returned by PCA agrees with the result given by the previously performed Grid Search. The reduced number of features enables faster training for fixed models or use of more complicated models for fixed resources."
   ]
  },
  {
   "cell_type": "markdown",
   "metadata": {},
   "source": [
    "### Question 4"
   ]
  },
  {
   "cell_type": "code",
   "execution_count": 8,
   "metadata": {},
   "outputs": [
    {
     "name": "stdout",
     "output_type": "stream",
     "text": [
      "PCA + Gradient Boosting Classifier:\n",
      "Accuracy score: 0.77\n",
      "F1: 0.77\n"
     ]
    }
   ],
   "source": [
    "from sklearn.ensemble import GradientBoostingClassifier\n",
    "\n",
    "# Define PCA\n",
    "pca = PCA(random_state = 42, n_components = clf[0].n_components_)\n",
    "\n",
    "# Define GBC model\n",
    "gbrt_clf = GradientBoostingClassifier(max_depth = 2,\n",
    "                                      n_estimators = 6,\n",
    "                                      learning_rate = 1.0,\n",
    "                                      random_state = 42)\n",
    "\n",
    "# Transform input data\n",
    "X_train_transformed = pca.fit_transform(X_train)\n",
    "\n",
    "# Fit model\n",
    "gbrt_clf.fit(X_train_transformed, y_train)\n",
    "\n",
    "# Predict\n",
    "y_pred = gbrt_clf.predict(pca.transform(X_test))\n",
    "\n",
    "print(\"PCA + Gradient Boosting Classifier:\")\n",
    "print(f\"Accuracy score: {accuracy_score(y_test,y_pred):.2f}\")\n",
    "print(f\"F1: {f1_score(y_test,y_pred, average= 'macro'):.2f}\")"
   ]
  },
  {
   "cell_type": "markdown",
   "metadata": {},
   "source": [
    "Despite the weak classifiers used by the ensemble method the results are substantially improved. This is caused by the fact that Gradient Boosting Classifier trains each Tree classifier on the residual errors of the previous one. Thus, correcting the errors and improving the error metrics."
   ]
  },
  {
   "cell_type": "markdown",
   "metadata": {},
   "source": [
    "### Question 5"
   ]
  },
  {
   "cell_type": "code",
   "execution_count": 9,
   "metadata": {},
   "outputs": [
    {
     "data": {
      "image/png": "[encoded data removed]",
      "text/plain": [
       "<Figure size 700x400 with 2 Axes>"
      ]
     },
     "metadata": {},
     "output_type": "display_data"
    }
   ],
   "source": [
    "import matplotlib.pyplot as plt\n",
    "\n",
    "# Inverse transform\n",
    "X_inv = pca.inverse_transform(X_train_transformed)\n",
    "\n",
    "N = 5\n",
    "fig = plt.figure(figsize=(7, 4))\n",
    "for idx, X in enumerate((X_train[0:N,:], X_inv[0:N,:])):\n",
    "    plt.subplot(1, 2, idx + 1)\n",
    "    plt.title([\"Original\", \"Compressed\"][idx])\n",
    "    for row in range(N):\n",
    "        plt.imshow(X[row,:].reshape(28, 28), cmap=\"binary\",\n",
    "                   vmin=0, vmax=255, extent=(2, 3, row, row + 1))\n",
    "        plt.axis([0, 5, 0, 5])\n",
    "        plt.axis(\"off\")"
   ]
  },
  {
   "cell_type": "markdown",
   "metadata": {},
   "source": [
    "The compression process, retaining reduced amount of features, did not significantly affect the images. This is because there is a large number of redundant dimensions in the dataset corresponding e.g. to empty pixels."
   ]
  },
  {
   "cell_type": "markdown",
   "metadata": {},
   "source": [
    "### Question 6"
   ]
  },
  {
   "cell_type": "code",
   "execution_count": 10,
   "metadata": {},
   "outputs": [
    {
     "data": {
      "image/png": "[encoded data removed]",
      "text/plain": [
       "<Figure size 800x200 with 20 Axes>"
      ]
     },
     "metadata": {},
     "output_type": "display_data"
    }
   ],
   "source": [
    "from sklearn.cluster import KMeans\n",
    "\n",
    "# Set cluster number\n",
    "k = 20\n",
    "\n",
    "# Fit kmeans to the PCA data\n",
    "kmeans = KMeans(n_clusters = 20, random_state = 42)\n",
    "\n",
    "X_train_transformed_dist = kmeans.fit_transform(X_train_transformed)\n",
    "\n",
    "# Find the images closer to the centroid\n",
    "representative_digit_idx = np.argmin(X_train_transformed_dist, axis = 0)\n",
    "X_representative_digits = X_train_transformed[representative_digit_idx]\n",
    "\n",
    "# Print the most representative digits from each cluster\n",
    "plt.figure(figsize=(8, 2))\n",
    "for index, X_representative_digit in enumerate(X_representative_digits):\n",
    "    plt.subplot(k // 10, 10, index + 1)\n",
    "    plt.imshow(pca.inverse_transform(X_representative_digit).reshape(28, 28),\n",
    "               cmap=\"binary\",\n",
    "               interpolation=\"bilinear\")\n",
    "    plt.axis('off')\n"
   ]
  },
  {
   "cell_type": "markdown",
   "metadata": {},
   "source": [
    "### Question 7"
   ]
  },
  {
   "cell_type": "code",
   "execution_count": 11,
   "metadata": {},
   "outputs": [
    {
     "name": "stdout",
     "output_type": "stream",
     "text": [
      "kMeans Classifier:\n",
      "Accuracy score*: 0.70\n",
      "F1: 0.69\n"
     ]
    }
   ],
   "source": [
    "# Manually label each class corresponding to each image\n",
    "representative_labels = [0,9,6,7,1,3,1,8,6,0,\n",
    "                         4,3,8,1,9,2,5,2,7,4]\n",
    "\n",
    "# Predict the classes with respect to the test set\n",
    "y_tmp = kmeans.predict(pca.transform(X_test))\n",
    "\n",
    "# Label propagation\n",
    "y_pred = np.empty(len(X_test), dtype = np.int64)\n",
    "for i in range(k):\n",
    "    y_pred[y_tmp == i] = representative_labels[i]\n",
    "\n",
    "print(\"kMeans Classifier:\")\n",
    "print(f\"Accuracy score*: {accuracy_score(y_test,y_pred):.2f}\")\n",
    "print(f\"F1: {f1_score(y_test,y_pred, average= 'macro'):.2f}\")"
   ]
  },
  {
   "cell_type": "markdown",
   "metadata": {},
   "source": [
    "The kMeans based predictions result in improved accuracy compared to the Tree Classifier and the PCA based variant, while simultaneously require less computational effort to train. The GBC method results in the best accuracy for this dataset but with substantial increase in computational work."
   ]
  },
  {
   "cell_type": "markdown",
   "metadata": {},
   "source": [
    "<hr>"
   ]
  },
  {
   "cell_type": "markdown",
   "metadata": {},
   "source": [
    "### Problem 2\n",
    "This problem focuses on supervised learning concepts using Ensemble Models, utilizing popular learning frameworks. Additionally, the final question benchmarks the performance of a semi-supervised learning approach using the scikit-learn library. Please fix the random state to 42 where required.\n",
    "\n",
    "1) Load the provided dataset, **pima.csv**, print its shape and display the distribution of the target variable. A description of the dataset can be found in this link:\n",
    "https://www.kaggle.com/datasets/uciml/pima-indians-diabetes-database/data. <b>[5%]</b>\n",
    "\n",
    "2) Display the main statistical characteristics of each column in the data in a tabular format. Identify columns where the minimum value takes an unreasonable value equal to zero. Replace these zero values with the median of the corresponding column, as they represent missing values based on the dataset’s creation protocol. Print the updated dataset’s characteristics in a tabular format and list the columns affected by this step. <b>[15%]</b>\n",
    "\n",
    "3) Perform a stratified split of the dataset, allocating 700 instances to the training set and the remaining samples to the test set. Ensure that the target variable is the **Outcome** column, while the rest of the columns constitute the feature space for the classification task. <b>[15%]</b>\n",
    "\n",
    "4) Train the following models:\n",
    "- A simple Decision Tree classifier using the default values of its parameters.\n",
    "- A Random Forest classifier using the default values of its parameters.\n",
    "- A Bagging classifier with an SVM classifier (linear kernel) and 10 estimators.\n",
    "- An AdaBoost classifier with a decision tree classifier, using 100 estimators and a learning rate of 0.25.</br>\n",
    "For each model, display a classification report presenting the standard classification metrics, precision, recall, and F1-score and the confusion matrix as they were calculated on the test set. <b>[20%]</b>\n",
    "\n",
    "5) Compare the performance of the previous four models. Comment on the observed performance differences. <b>[20%]</b>\n",
    "\n",
    "6) Select the best-performing classifier from Question #4 as the base model. Wrap it in an instance of the *SelfTrainingClassifier* class with the arguments *criterion='threshold'* and *threshold=0.99*. Randomly select 200 instances from the initial training set as labeled data, marking the rest as unlabeled. Train the semi-supervised model on the combined labeled and unlabeled data and train the supervised model on only the labeled data. Evaluate both models on the same test set, display the classification reports, and add your comments. <b>[10%]</b>"
   ]
  },
  {
   "cell_type": "code",
   "execution_count": 12,
   "metadata": {},
   "outputs": [
    {
     "data": {
      "text/html": [
       "<style>.container { width:90% !important; }</style>"
      ],
      "text/plain": [
       "<IPython.core.display.HTML object>"
      ]
     },
     "metadata": {},
     "output_type": "display_data"
    }
   ],
   "source": [
    "#Load packages\n",
    "import pandas as pd\n",
    "import numpy as np\n",
    "from sklearn.model_selection import train_test_split\n",
    "from sklearn.metrics import classification_report\n",
    "from sklearn.ensemble import BaggingClassifier, RandomForestClassifier, AdaBoostClassifier\n",
    "from sklearn.tree import DecisionTreeClassifier\n",
    "from sklearn.svm import SVC\n",
    "from sklearn.semi_supervised import SelfTrainingClassifier\n",
    "from sklearn.preprocessing import MinMaxScaler\n",
    "from sklearn.pipeline import Pipeline\n",
    "\n",
    "# increase the width of the notebook\n",
    "from IPython.display import display, HTML, Markdown\n",
    "display(HTML(\"<style>.container { width:90% !important; }</style>\"))\n",
    "\n",
    "# set the output of sklearn pipelines \n",
    "from sklearn import set_config\n",
    "set_config(display=\"diagram\")\n",
    "\n",
    "import matplotlib.pyplot as plt\n",
    "# set the plotting parameters\n",
    "plt.rcParams.update({'font.size': 12})\n",
    "%matplotlib inline\n",
    "\n",
    "from sklearn.metrics import confusion_matrix\n",
    "\n",
    "# set the random state\n",
    "RANDOM_STATE = 42"
   ]
  },
  {
   "cell_type": "markdown",
   "metadata": {},
   "source": [
    "### Question 1"
   ]
  },
  {
   "cell_type": "code",
   "execution_count": 13,
   "metadata": {},
   "outputs": [
    {
     "data": {
      "text/plain": [
       "Outcome\n",
       "0    500\n",
       "1    268\n",
       "Name: count, dtype: int64"
      ]
     },
     "execution_count": 13,
     "metadata": {},
     "output_type": "execute_result"
    }
   ],
   "source": [
    "# load the pima.csv datset from your local path\n",
    "data = pd.read_csv('pima.csv')\n",
    "\n",
    "# get the distribution of the target variable\n",
    "data['Outcome'].value_counts()"
   ]
  },
  {
   "cell_type": "markdown",
   "metadata": {},
   "source": [
    "### Question 2"
   ]
  },
  {
   "cell_type": "code",
   "execution_count": 14,
   "metadata": {},
   "outputs": [
    {
     "data": {
      "text/html": [
       "<div>\n",
       "<style scoped>\n",
       "    .dataframe tbody tr th:only-of-type {\n",
       "        vertical-align: middle;\n",
       "    }\n",
       "\n",
       "    .dataframe tbody tr th {\n",
       "        vertical-align: top;\n",
       "    }\n",
       "\n",
       "    .dataframe thead th {\n",
       "        text-align: right;\n",
       "    }\n",
       "</style>\n",
       "<table border=\"1\" class=\"dataframe\">\n",
       "  <thead>\n",
       "    <tr style=\"text-align: right;\">\n",
       "      <th></th>\n",
       "      <th>Pregnancies</th>\n",
       "      <th>Glucose</th>\n",
       "      <th>BloodPressure</th>\n",
       "      <th>SkinThickness</th>\n",
       "      <th>Insulin</th>\n",
       "      <th>BMI</th>\n",
       "      <th>DiabetesPedigreeFunction</th>\n",
       "      <th>Age</th>\n",
       "      <th>Outcome</th>\n",
       "    </tr>\n",
       "  </thead>\n",
       "  <tbody>\n",
       "    <tr>\n",
       "      <th>count</th>\n",
       "      <td>768.000000</td>\n",
       "      <td>768.000000</td>\n",
       "      <td>768.000000</td>\n",
       "      <td>768.000000</td>\n",
       "      <td>768.000000</td>\n",
       "      <td>768.000000</td>\n",
       "      <td>768.000000</td>\n",
       "      <td>768.000000</td>\n",
       "      <td>768.000000</td>\n",
       "    </tr>\n",
       "    <tr>\n",
       "      <th>mean</th>\n",
       "      <td>3.845052</td>\n",
       "      <td>120.894531</td>\n",
       "      <td>69.105469</td>\n",
       "      <td>20.536458</td>\n",
       "      <td>79.799479</td>\n",
       "      <td>31.992578</td>\n",
       "      <td>0.471876</td>\n",
       "      <td>33.240885</td>\n",
       "      <td>0.348958</td>\n",
       "    </tr>\n",
       "    <tr>\n",
       "      <th>std</th>\n",
       "      <td>3.369578</td>\n",
       "      <td>31.972618</td>\n",
       "      <td>19.355807</td>\n",
       "      <td>15.952218</td>\n",
       "      <td>115.244002</td>\n",
       "      <td>7.884160</td>\n",
       "      <td>0.331329</td>\n",
       "      <td>11.760232</td>\n",
       "      <td>0.476951</td>\n",
       "    </tr>\n",
       "    <tr>\n",
       "      <th>min</th>\n",
       "      <td>0.000000</td>\n",
       "      <td>0.000000</td>\n",
       "      <td>0.000000</td>\n",
       "      <td>0.000000</td>\n",
       "      <td>0.000000</td>\n",
       "      <td>0.000000</td>\n",
       "      <td>0.078000</td>\n",
       "      <td>21.000000</td>\n",
       "      <td>0.000000</td>\n",
       "    </tr>\n",
       "    <tr>\n",
       "      <th>25%</th>\n",
       "      <td>1.000000</td>\n",
       "      <td>99.000000</td>\n",
       "      <td>62.000000</td>\n",
       "      <td>0.000000</td>\n",
       "      <td>0.000000</td>\n",
       "      <td>27.300000</td>\n",
       "      <td>0.243750</td>\n",
       "      <td>24.000000</td>\n",
       "      <td>0.000000</td>\n",
       "    </tr>\n",
       "    <tr>\n",
       "      <th>50%</th>\n",
       "      <td>3.000000</td>\n",
       "      <td>117.000000</td>\n",
       "      <td>72.000000</td>\n",
       "      <td>23.000000</td>\n",
       "      <td>30.500000</td>\n",
       "      <td>32.000000</td>\n",
       "      <td>0.372500</td>\n",
       "      <td>29.000000</td>\n",
       "      <td>0.000000</td>\n",
       "    </tr>\n",
       "    <tr>\n",
       "      <th>75%</th>\n",
       "      <td>6.000000</td>\n",
       "      <td>140.250000</td>\n",
       "      <td>80.000000</td>\n",
       "      <td>32.000000</td>\n",
       "      <td>127.250000</td>\n",
       "      <td>36.600000</td>\n",
       "      <td>0.626250</td>\n",
       "      <td>41.000000</td>\n",
       "      <td>1.000000</td>\n",
       "    </tr>\n",
       "    <tr>\n",
       "      <th>max</th>\n",
       "      <td>17.000000</td>\n",
       "      <td>199.000000</td>\n",
       "      <td>122.000000</td>\n",
       "      <td>99.000000</td>\n",
       "      <td>846.000000</td>\n",
       "      <td>67.100000</td>\n",
       "      <td>2.420000</td>\n",
       "      <td>81.000000</td>\n",
       "      <td>1.000000</td>\n",
       "    </tr>\n",
       "  </tbody>\n",
       "</table>\n",
       "</div>"
      ],
      "text/plain": [
       "       Pregnancies     Glucose  BloodPressure  SkinThickness     Insulin  \\\n",
       "count   768.000000  768.000000     768.000000     768.000000  768.000000   \n",
       "mean      3.845052  120.894531      69.105469      20.536458   79.799479   \n",
       "std       3.369578   31.972618      19.355807      15.952218  115.244002   \n",
       "min       0.000000    0.000000       0.000000       0.000000    0.000000   \n",
       "25%       1.000000   99.000000      62.000000       0.000000    0.000000   \n",
       "50%       3.000000  117.000000      72.000000      23.000000   30.500000   \n",
       "75%       6.000000  140.250000      80.000000      32.000000  127.250000   \n",
       "max      17.000000  199.000000     122.000000      99.000000  846.000000   \n",
       "\n",
       "              BMI  DiabetesPedigreeFunction         Age     Outcome  \n",
       "count  768.000000                768.000000  768.000000  768.000000  \n",
       "mean    31.992578                  0.471876   33.240885    0.348958  \n",
       "std      7.884160                  0.331329   11.760232    0.476951  \n",
       "min      0.000000                  0.078000   21.000000    0.000000  \n",
       "25%     27.300000                  0.243750   24.000000    0.000000  \n",
       "50%     32.000000                  0.372500   29.000000    0.000000  \n",
       "75%     36.600000                  0.626250   41.000000    1.000000  \n",
       "max     67.100000                  2.420000   81.000000    1.000000  "
      ]
     },
     "execution_count": 14,
     "metadata": {},
     "output_type": "execute_result"
    }
   ],
   "source": [
    "# use the .describe method to get the summary statistics of the data based on pandas library\n",
    "data.describe()"
   ]
  },
  {
   "cell_type": "code",
   "execution_count": 15,
   "metadata": {},
   "outputs": [],
   "source": [
    "# detect columns that have zero values\n",
    "zero_columns = [col for col in data.columns if (data[col].min() == 0 and col not in [\"Pregnancies\", \"Outcome\"])]\n",
    "            \n",
    "# replace zero values with NaN in targeted columns            \n",
    "for col in zero_columns:\n",
    "    data[col] = np.where(data[col]==0, np.nan, data[col])"
   ]
  },
  {
   "cell_type": "code",
   "execution_count": 16,
   "metadata": {},
   "outputs": [
    {
     "name": "stdout",
     "output_type": "stream",
     "text": [
      "Columns that were affected by our pre-processing approach: \n",
      "\n",
      "1. Glucose\n",
      "2. BloodPressure\n",
      "3. SkinThickness\n",
      "4. Insulin\n",
      "5. BMI\n"
     ]
    }
   ],
   "source": [
    "# print the columns that have zero values\n",
    "print(\"Columns that were affected by our pre-processing approach: \\n\")\n",
    "for counter, col in enumerate(zero_columns):\n",
    "    print(f\"{counter+1}. {col}\")"
   ]
  },
  {
   "cell_type": "code",
   "execution_count": 17,
   "metadata": {},
   "outputs": [
    {
     "name": "stdout",
     "output_type": "stream",
     "text": [
      "Pregnancies                   0\n",
      "Glucose                       5\n",
      "BloodPressure                35\n",
      "SkinThickness               227\n",
      "Insulin                     374\n",
      "BMI                          11\n",
      "DiabetesPedigreeFunction      0\n",
      "Age                           0\n",
      "Outcome                       0\n",
      "dtype: int64\n"
     ]
    }
   ],
   "source": [
    "# number of instances affected per existing column\n",
    "print(data.isnull().sum())"
   ]
  },
  {
   "cell_type": "code",
   "execution_count": 18,
   "metadata": {},
   "outputs": [],
   "source": [
    "from sklearn.impute import SimpleImputer\n",
    "\n",
    "# Create an imputer object with a median filling strategy\n",
    "imputer = SimpleImputer(missing_values = np.nan,\n",
    "                        strategy = \"median\")\n",
    "\n",
    "for col in zero_columns:\n",
    "    data.loc[:, col] = imputer.fit_transform(data.loc[:, col].values.reshape(-1, 1))"
   ]
  },
  {
   "cell_type": "code",
   "execution_count": 19,
   "metadata": {},
   "outputs": [
    {
     "data": {
      "text/html": [
       "<div>\n",
       "<style scoped>\n",
       "    .dataframe tbody tr th:only-of-type {\n",
       "        vertical-align: middle;\n",
       "    }\n",
       "\n",
       "    .dataframe tbody tr th {\n",
       "        vertical-align: top;\n",
       "    }\n",
       "\n",
       "    .dataframe thead th {\n",
       "        text-align: right;\n",
       "    }\n",
       "</style>\n",
       "<table border=\"1\" class=\"dataframe\">\n",
       "  <thead>\n",
       "    <tr style=\"text-align: right;\">\n",
       "      <th></th>\n",
       "      <th>Pregnancies</th>\n",
       "      <th>Glucose</th>\n",
       "      <th>BloodPressure</th>\n",
       "      <th>SkinThickness</th>\n",
       "      <th>Insulin</th>\n",
       "      <th>BMI</th>\n",
       "      <th>DiabetesPedigreeFunction</th>\n",
       "      <th>Age</th>\n",
       "      <th>Outcome</th>\n",
       "    </tr>\n",
       "  </thead>\n",
       "  <tbody>\n",
       "    <tr>\n",
       "      <th>count</th>\n",
       "      <td>768.000000</td>\n",
       "      <td>768.000000</td>\n",
       "      <td>768.000000</td>\n",
       "      <td>768.000000</td>\n",
       "      <td>768.000000</td>\n",
       "      <td>768.000000</td>\n",
       "      <td>768.000000</td>\n",
       "      <td>768.000000</td>\n",
       "      <td>768.000000</td>\n",
       "    </tr>\n",
       "    <tr>\n",
       "      <th>mean</th>\n",
       "      <td>3.845052</td>\n",
       "      <td>121.656250</td>\n",
       "      <td>72.386719</td>\n",
       "      <td>29.108073</td>\n",
       "      <td>140.671875</td>\n",
       "      <td>32.455208</td>\n",
       "      <td>0.471876</td>\n",
       "      <td>33.240885</td>\n",
       "      <td>0.348958</td>\n",
       "    </tr>\n",
       "    <tr>\n",
       "      <th>std</th>\n",
       "      <td>3.369578</td>\n",
       "      <td>30.438286</td>\n",
       "      <td>12.096642</td>\n",
       "      <td>8.791221</td>\n",
       "      <td>86.383060</td>\n",
       "      <td>6.875177</td>\n",
       "      <td>0.331329</td>\n",
       "      <td>11.760232</td>\n",
       "      <td>0.476951</td>\n",
       "    </tr>\n",
       "    <tr>\n",
       "      <th>min</th>\n",
       "      <td>0.000000</td>\n",
       "      <td>44.000000</td>\n",
       "      <td>24.000000</td>\n",
       "      <td>7.000000</td>\n",
       "      <td>14.000000</td>\n",
       "      <td>18.200000</td>\n",
       "      <td>0.078000</td>\n",
       "      <td>21.000000</td>\n",
       "      <td>0.000000</td>\n",
       "    </tr>\n",
       "    <tr>\n",
       "      <th>25%</th>\n",
       "      <td>1.000000</td>\n",
       "      <td>99.750000</td>\n",
       "      <td>64.000000</td>\n",
       "      <td>25.000000</td>\n",
       "      <td>121.500000</td>\n",
       "      <td>27.500000</td>\n",
       "      <td>0.243750</td>\n",
       "      <td>24.000000</td>\n",
       "      <td>0.000000</td>\n",
       "    </tr>\n",
       "    <tr>\n",
       "      <th>50%</th>\n",
       "      <td>3.000000</td>\n",
       "      <td>117.000000</td>\n",
       "      <td>72.000000</td>\n",
       "      <td>29.000000</td>\n",
       "      <td>125.000000</td>\n",
       "      <td>32.300000</td>\n",
       "      <td>0.372500</td>\n",
       "      <td>29.000000</td>\n",
       "      <td>0.000000</td>\n",
       "    </tr>\n",
       "    <tr>\n",
       "      <th>75%</th>\n",
       "      <td>6.000000</td>\n",
       "      <td>140.250000</td>\n",
       "      <td>80.000000</td>\n",
       "      <td>32.000000</td>\n",
       "      <td>127.250000</td>\n",
       "      <td>36.600000</td>\n",
       "      <td>0.626250</td>\n",
       "      <td>41.000000</td>\n",
       "      <td>1.000000</td>\n",
       "    </tr>\n",
       "    <tr>\n",
       "      <th>max</th>\n",
       "      <td>17.000000</td>\n",
       "      <td>199.000000</td>\n",
       "      <td>122.000000</td>\n",
       "      <td>99.000000</td>\n",
       "      <td>846.000000</td>\n",
       "      <td>67.100000</td>\n",
       "      <td>2.420000</td>\n",
       "      <td>81.000000</td>\n",
       "      <td>1.000000</td>\n",
       "    </tr>\n",
       "  </tbody>\n",
       "</table>\n",
       "</div>"
      ],
      "text/plain": [
       "       Pregnancies     Glucose  BloodPressure  SkinThickness     Insulin  \\\n",
       "count   768.000000  768.000000     768.000000     768.000000  768.000000   \n",
       "mean      3.845052  121.656250      72.386719      29.108073  140.671875   \n",
       "std       3.369578   30.438286      12.096642       8.791221   86.383060   \n",
       "min       0.000000   44.000000      24.000000       7.000000   14.000000   \n",
       "25%       1.000000   99.750000      64.000000      25.000000  121.500000   \n",
       "50%       3.000000  117.000000      72.000000      29.000000  125.000000   \n",
       "75%       6.000000  140.250000      80.000000      32.000000  127.250000   \n",
       "max      17.000000  199.000000     122.000000      99.000000  846.000000   \n",
       "\n",
       "              BMI  DiabetesPedigreeFunction         Age     Outcome  \n",
       "count  768.000000                768.000000  768.000000  768.000000  \n",
       "mean    32.455208                  0.471876   33.240885    0.348958  \n",
       "std      6.875177                  0.331329   11.760232    0.476951  \n",
       "min     18.200000                  0.078000   21.000000    0.000000  \n",
       "25%     27.500000                  0.243750   24.000000    0.000000  \n",
       "50%     32.300000                  0.372500   29.000000    0.000000  \n",
       "75%     36.600000                  0.626250   41.000000    1.000000  \n",
       "max     67.100000                  2.420000   81.000000    1.000000  "
      ]
     },
     "execution_count": 19,
     "metadata": {},
     "output_type": "execute_result"
    }
   ],
   "source": [
    "data.describe()"
   ]
  },
  {
   "cell_type": "markdown",
   "metadata": {},
   "source": [
    "### Comment:\n",
    "\n",
    "We observe that the columns **DiabetesPedigreeFunction**, **Age**, **Pregnancies**, and **Outcome** were not affected from our preprocessing stage."
   ]
  },
  {
   "cell_type": "markdown",
   "metadata": {},
   "source": [
    "### Question 3"
   ]
  },
  {
   "cell_type": "code",
   "execution_count": 20,
   "metadata": {},
   "outputs": [],
   "source": [
    "X = data.drop('Outcome', axis=1)\n",
    "y = data['Outcome']\n",
    "\n",
    "# Define the number of instances for training and testing\n",
    "train_size = 700  # Number of instances for training\n",
    "test_size = 68    # Number of instances for testing\n",
    "\n",
    "# Split the dataset\n",
    "X_train, X_test, y_train, y_test = train_test_split(X, y,\n",
    "                                                    train_size = train_size,\n",
    "                                                    test_size = test_size,\n",
    "                                                    stratify = y,\n",
    "                                                    random_state = RANDOM_STATE)"
   ]
  },
  {
   "cell_type": "markdown",
   "metadata": {},
   "source": [
    "### Question 4"
   ]
  },
  {
   "cell_type": "code",
   "execution_count": 21,
   "metadata": {},
   "outputs": [
    {
     "name": "stdout",
     "output_type": "stream",
     "text": [
      "Training: Decision Tree\n",
      "              precision    recall  f1-score   support\n",
      "\n",
      "          No       0.76      0.84      0.80        44\n",
      "         Yes       0.63      0.50      0.56        24\n",
      "\n",
      "    accuracy                           0.72        68\n",
      "   macro avg       0.69      0.67      0.68        68\n",
      "weighted avg       0.71      0.72      0.71        68\n",
      "\n",
      "Confusion matrix:\n",
      "[[37  7]\n",
      " [12 12]]\n",
      "\n",
      "Training: Random Forest\n",
      "              precision    recall  f1-score   support\n",
      "\n",
      "          No       0.86      0.84      0.85        44\n",
      "         Yes       0.72      0.75      0.73        24\n",
      "\n",
      "    accuracy                           0.81        68\n",
      "   macro avg       0.79      0.80      0.79        68\n",
      "weighted avg       0.81      0.81      0.81        68\n",
      "\n",
      "Confusion matrix:\n",
      "[[37  7]\n",
      " [ 6 18]]\n",
      "\n",
      "Training: Bagging SVC\n",
      "              precision    recall  f1-score   support\n",
      "\n",
      "          No       0.80      0.82      0.81        44\n",
      "         Yes       0.65      0.62      0.64        24\n",
      "\n",
      "    accuracy                           0.75        68\n",
      "   macro avg       0.73      0.72      0.72        68\n",
      "weighted avg       0.75      0.75      0.75        68\n",
      "\n",
      "Confusion matrix:\n",
      "[[36  8]\n",
      " [ 9 15]]\n",
      "\n",
      "Training: AdaBoost\n",
      "              precision    recall  f1-score   support\n",
      "\n",
      "          No       0.74      0.84      0.79        44\n",
      "         Yes       0.61      0.46      0.52        24\n",
      "\n",
      "    accuracy                           0.71        68\n",
      "   macro avg       0.68      0.65      0.66        68\n",
      "weighted avg       0.69      0.71      0.69        68\n",
      "\n",
      "Confusion matrix:\n",
      "[[37  7]\n",
      " [13 11]]\n",
      "\n"
     ]
    }
   ],
   "source": [
    "# Good practice: scale the data before applying an SVM model\n",
    "svc_pipeline = Pipeline([('scaler', MinMaxScaler()),\n",
    "                         ('svm', SVC(random_state = RANDOM_STATE, kernel=\"linear\"))])\n",
    "\n",
    "estimators = [\n",
    "    ('Decision Tree', DecisionTreeClassifier(random_state = RANDOM_STATE)),\n",
    "    ('Random Forest', RandomForestClassifier(random_state = RANDOM_STATE)),\n",
    "    ('Bagging SVC', BaggingClassifier(estimator = svc_pipeline, n_estimators = 10, random_state = RANDOM_STATE)),\n",
    "    ('AdaBoost', AdaBoostClassifier(estimator = DecisionTreeClassifier(random_state = RANDOM_STATE),\n",
    "                               n_estimators = 100, learning_rate = 0.25, random_state = RANDOM_STATE))\n",
    "]\n",
    "\n",
    "target_names = ['No', 'Yes']\n",
    "\n",
    "models = {}\n",
    "# train each estimator\n",
    "for est in estimators:\n",
    "    name, clf = est\n",
    "    print(f\"Training: {name}\")\n",
    "    clf.fit(X_train, y_train)\n",
    "    \n",
    "    y_pred = clf.predict(X_test)\n",
    "    print(classification_report(y_test, y_pred, target_names=target_names))\n",
    "    print(\"Confusion matrix:\")\n",
    "    print(confusion_matrix(y_test, y_pred))\n",
    "    print()\n",
    "    \n",
    "    models[name] = clf  # store the trained model"
   ]
  },
  {
   "cell_type": "markdown",
   "metadata": {},
   "source": [
    "### Question 5"
   ]
  },
  {
   "cell_type": "markdown",
   "metadata": {},
   "source": [
    "Some typical comments, prioritizing the behavior of each model mainly over the positive instances:\n",
    "\n",
    "1. The decision tree has moderate accuracy but struggles with recall, indicating it misses a significant number of positive cases.\n",
    "2. Random Forest improves both recall and precision compared to a single decision tree, leading to a higher F1-score. It is more robust in handling positive cases.\n",
    "3. Bagging of SVMs has balanced precision and recall. It is better than a single decision tree in terms of handling positives.\n",
    "4. AdaBoost of decision trees has similar accuracy to a single decision tree but slightly lower recall. It struggles to handle positive cases effectively.\n",
    "\n",
    "To sum up:\n",
    "- **Best Classifier**: Random forest, has the highest F1-score and is the most balanced model.\n",
    "- **Worst Classifier**: AdaBoost, has extremely poor recall and low overall performance."
   ]
  },
  {
   "cell_type": "markdown",
   "metadata": {},
   "source": [
    "### Question 6"
   ]
  },
  {
   "cell_type": "code",
   "execution_count": 22,
   "metadata": {},
   "outputs": [],
   "source": [
    "# Create copies of the training sets\n",
    "X_train_cp, y_train_cp = X_train.copy(), y_train.copy()\n",
    "\n",
    "# Set the size of the boolean array\n",
    "size = len(y_train_cp)\n",
    "\n",
    "# Set the number of True values\n",
    "num_true = 200\n",
    "\n",
    "# Create an array with the specified number of True and False values\n",
    "boolean_array = np.array([True] * num_true + [False] * (size - num_true))\n",
    "\n",
    "# Shuffle the array to randomize the True/False values\n",
    "np.random.seed(RANDOM_STATE)\n",
    "np.random.shuffle(boolean_array)\n",
    "\n",
    "assert num_true == np.count_nonzero(boolean_array)"
   ]
  },
  {
   "cell_type": "code",
   "execution_count": 23,
   "metadata": {},
   "outputs": [
    {
     "data": {
      "text/plain": [
       "Outcome\n",
       " 0    316\n",
       "-1    200\n",
       " 1    184\n",
       "Name: count, dtype: int64"
      ]
     },
     "execution_count": 23,
     "metadata": {},
     "output_type": "execute_result"
    }
   ],
   "source": [
    "# annotate as -1 the randomly chosen unlabeled instances \n",
    "y_train_cp[boolean_array] = -1\n",
    "y_train_cp.value_counts()"
   ]
  },
  {
   "cell_type": "code",
   "execution_count": 28,
   "metadata": {},
   "outputs": [
    {
     "name": "stdout",
     "output_type": "stream",
     "text": [
      "              precision    recall  f1-score   support\n",
      "\n",
      "          No       0.86      0.84      0.85        44\n",
      "         Yes       0.72      0.75      0.73        24\n",
      "\n",
      "    accuracy                           0.81        68\n",
      "   macro avg       0.79      0.80      0.79        68\n",
      "weighted avg       0.81      0.81      0.81        68\n",
      "\n",
      "\n",
      "[[37  7]\n",
      " [ 6 18]]\n"
     ]
    }
   ],
   "source": [
    "# train and predict using the self-training wrapper with the best ensemble model from the previous question\n",
    "self_training_model = SelfTrainingClassifier(models[\"Random Forest\"],\n",
    "                                             criterion = \"threshold\",\n",
    "                                             threshold = 0.99)\n",
    "\n",
    "self_training_model.fit(X_train_cp, y_train_cp)\n",
    "y_pred = self_training_model.predict(X_test)\n",
    "\n",
    "print(classification_report(y_test, y_pred, target_names = target_names))\n",
    "print()\n",
    "print(confusion_matrix(y_test, y_pred))"
   ]
  },
  {
   "cell_type": "code",
   "execution_count": 25,
   "metadata": {},
   "outputs": [
    {
     "data": {
      "text/plain": [
       "array([[ -1, 185],\n",
       "       [  0, 331],\n",
       "       [  1, 184]])"
      ]
     },
     "execution_count": 25,
     "metadata": {},
     "output_type": "execute_result"
    }
   ],
   "source": [
    "# check the distribution of the training instances after the self-training process \n",
    "np.array(np.unique(self_training_model.transduction_, return_counts=True)).T"
   ]
  },
  {
   "cell_type": "code",
   "execution_count": 26,
   "metadata": {},
   "outputs": [
    {
     "data": {
      "text/plain": [
       "((500, 8), (500,))"
      ]
     },
     "execution_count": 26,
     "metadata": {},
     "output_type": "execute_result"
    }
   ],
   "source": [
    "# isolate the initially labeled instances\n",
    "X_train_supervised_model = X_train[y_train_cp != -1]\n",
    "y_train_supervised_model = y_train[y_train_cp != -1]\n",
    "\n",
    "X_train_supervised_model.shape, y_train_supervised_model.shape"
   ]
  },
  {
   "cell_type": "code",
   "execution_count": 27,
   "metadata": {},
   "outputs": [
    {
     "name": "stdout",
     "output_type": "stream",
     "text": [
      "              precision    recall  f1-score   support\n",
      "\n",
      "          No       0.84      0.82      0.83        44\n",
      "         Yes       0.68      0.71      0.69        24\n",
      "\n",
      "    accuracy                           0.78        68\n",
      "   macro avg       0.76      0.76      0.76        68\n",
      "weighted avg       0.78      0.78      0.78        68\n",
      "\n",
      "\n",
      "[[36  8]\n",
      " [ 7 17]]\n"
     ]
    }
   ],
   "source": [
    "# train the same ensemble model with the labeled instances\n",
    "models[\"Random Forest\"].fit(X_train_supervised_model, y_train_supervised_model)\n",
    "y_pred = models[\"Random Forest\"].predict(X_test)\n",
    "\n",
    "print(classification_report(y_test, y_pred, target_names = target_names))\n",
    "print()\n",
    "print(confusion_matrix(y_test, y_pred))"
   ]
  },
  {
   "cell_type": "markdown",
   "metadata": {},
   "source": [
    "**Comment**: The self-training process performs well across the measured metrics.\n",
    "\n",
    "However, the model exhibited a strong preference for the negative class, as almost all the unlabeled instances added to the original 200 labeled examples belonged to the negative class.\n",
    "\n",
    "Furthermore, the performance of the semi-supervised variant is highly sensitive to the choice of the threshold and k_best parameters. The presence of unlabeled examples alone does not guarantee performance improvement. This can be observed by varying these parameter values and noting the impact on performance."
   ]
  }
 ],
 "metadata": {
  "kernelspec": {
   "display_name": "ml",
   "language": "python",
   "name": "ml"
  },
  "language_info": {
   "codemirror_mode": {
    "name": "ipython",
    "version": 3
   },
   "file_extension": ".py",
   "mimetype": "text/x-python",
   "name": "python",
   "nbconvert_exporter": "python",
   "pygments_lexer": "ipython3",
   "version": "3.12.5"
  },
  "metadata": {
   "interpreter": {
    "hash": "22b0ec00cd9e253c751e6d2619fc0bb2d18ed12980de3246690d5be49479dd65"
   }
  },
  "nav_menu": {},
  "toc": {
   "navigate_menu": true,
   "number_sections": true,
   "sideBar": true,
   "threshold": 6,
   "toc_cell": false,
   "toc_section_display": "block",
   "toc_window_display": true
  },
  "toc_position": {
   "height": "616px",
   "left": "0px",
   "right": "20px",
   "top": "106px",
   "width": "213px"
  }
 },
 "nbformat": 4,
 "nbformat_minor": 4
}
